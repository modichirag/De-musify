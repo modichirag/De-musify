{
 "cells": [
  {
   "cell_type": "markdown",
   "metadata": {},
   "source": [
    "#### Idea\n",
    "\n",
    "- Access spotify with authorization. Get one(all) of your playlists and tracks. \n",
    "- Get information/features of those tacks and cluster them together to find trends in your taste of music.\n",
    "- Maybe sort by dates and see how your taste has evolved?\n",
    "- ^I like this idea\n",
    "\n",
    "---Damn I think I am taking my music too seriously\n",
    "\n",
    "##### Roadmap\n",
    "We don't have time, so lets get it working quickly. Following are the steps\n",
    "- Understand how to interact with spotify api\n",
    "- register your app\n",
    "- get access to your playlists. Get songs from a playlist. This should conclude phase 1.\n",
    "- get features for your songs. Save them in database? Plot them?\n",
    "- Advanced: \n",
    "  - Run a clustering algorithm to find labels to define your music\n",
    "  - Try to find related artists, go through their music and find similar?"
   ]
  },
  {
   "cell_type": "code",
   "execution_count": 5,
   "metadata": {
    "collapsed": false
   },
   "outputs": [
    {
     "name": "stdout",
     "output_type": "stream",
     "text": [
      "  0 Sonata No. 14 \"Moonlight\" in C-Sharp Minor\", Op. 27 No. 2: I. Adagio sostenuto\n",
      "  1 Piano Sonata No. 8 in C Minor, Op. 13 'Pathétique': II. Adagio cantabile\n",
      "  2 25 Bagatelles, WoO. 59: No. 25 in A Minor 'Für Elise'\n",
      "  3 Piano Sonata No. 23 in F Minor, Op. 57 'Appassionata': I Allegro assai\n",
      "  4 Piano Sonata No. 23 in F Minor, Op. 57 'Appassionata': II Andante con moto\n",
      "  5 Piano Sonata No. 14 in C-Sharp Minor, Op. 27 No. 2 'Moonlight': I. Adagio sostenuto\n",
      "  6 Piano Sonata No. 23 in F Minor, Op. 57 'Appassionata': III Allegro, ma non troppo - Presto\n",
      "  7 Six Bagatelles, Op. 126: V. Quasi allegretto\n",
      "  8 Piano Sonata No. 26 in E-Flat Major, Op. 81a 'Les Adieux': I. Adagio - Allegro \"Les Adieux\"\n",
      "  9 Piano Sonata No.12 in A-Flat Major, Op. 26: Marcia funèbre sulla morte d'un Eroe - Maestoso andante\n",
      "  10 Piano Sonata No. 23 in F Minor, Op. 57 'Appassionata': I. Allegro assai\n",
      "  11 6 Minuets, WoO. 10: No. 2 in G Major\n",
      "  12 Piano Sonata No. 21 in C Major, Op. 53 \"Waldstein\": I. Allegro con brio\n",
      "  13 Piano Sonata No. 32 in C Minor, Op. 111: II. Arietta (Adagio Molto Simplice E Cantabile)\n",
      "  14 Piano Sonata No. 21 in C Major, Op. 53 \"Waldstein\": II. Introduzione (Adagio molto)\n",
      "  15 Piano Sonata No. 21 in C Major, Op. 53 \"Waldstein\": III. Rondo (Allegretto moderato)\n",
      "  16 Diabelli Variations,Op. 120: I. Tema (Vivace)\n",
      "  17 Piano Sonata No. 30 in E Major, Op. 109: I. Vivace - Adagio espressivo\n",
      "  18 Piano Sonata No. 30 in E Major, Op. 109: II. Prestissimo\n",
      "  19 Piano Sonata No. 30 in E Major, Op. 109: III. Adagio molto cantabile ed espressivo\n"
     ]
    }
   ],
   "source": [
    "import spotipy\n",
    "sp = spotipy.Spotify()\n",
    "\n",
    "results = sp.search(q='beethoven', limit=20)\n",
    "for i, t in enumerate(results['tracks']['items']):\n",
    "    print (' ', i, t['name'])"
   ]
  },
  {
   "cell_type": "code",
   "execution_count": 28,
   "metadata": {
    "collapsed": true
   },
   "outputs": [],
   "source": [
    "\n",
    "from flask import Flask, request, render_template\n",
    "from flask import Flask, request, session, g, redirect, url_for, abort, \\\n",
    "     render_template, flash\n",
    "import sqlite3\n",
    "from werkzeug.utils import secure_filename\n",
    "import os\n",
    "import requests\n",
    "import re\n",
    "from urllib.request import urlopen\n",
    "from bs4 import BeautifulSoup\n",
    "import json\n"
   ]
  },
  {
   "cell_type": "code",
   "execution_count": 29,
   "metadata": {
    "collapsed": false
   },
   "outputs": [
    {
     "name": "stdout",
     "output_type": "stream",
     "text": [
      "<Response [200]>\n"
     ]
    }
   ],
   "source": [
    "#coldpaly - spotify:artist:4gzpq5DPGxSnKTe4SA8HAU\n",
    "response = requests.get(\"https://api.spotify.com/v1/artists/4gzpq5DPGxSnKTe4SA8HAU\")\n",
    "print (response)"
   ]
  },
  {
   "cell_type": "code",
   "execution_count": 36,
   "metadata": {
    "collapsed": false
   },
   "outputs": [
    {
     "data": {
      "text/plain": [
       "'{\\n  \"external_urls\" : {\\n    \"spotify\" : \"https://open.spotify.com/artist/4gzpq5DPGxSnKTe4SA8HAU\"\\n  },\\n  \"followers\" : {\\n    \"href\" : null,\\n    \"total\" : 6301926\\n  },\\n  \"genres\" : [ \"permanent wave\", \"pop\", \"pop christmas\", \"rock\" ],\\n  \"href\" : \"https://api.spotify.com/v1/artists/4gzpq5DPGxSnKTe4SA8HAU\",\\n  \"id\" : \"4gzpq5DPGxSnKTe4SA8HAU\",\\n  \"images\" : [ {\\n    \"height\" : 1000,\\n    \"url\" : \"https://i.scdn.co/image/31fa9aa639d539dc93ab9e3570c7c70a1b5c64f8\",\\n    \"width\" : 1000\\n  }, {\\n    \"height\" : 640,\\n    \"url\" : \"https://i.scdn.co/image/f700aaf6ebf1f0105d4eece756d924ab7efc3441\",\\n    \"width\" : 640\\n  }, {\\n    \"height\" : 200,\\n    \"url\" : \"https://i.scdn.co/image/32e13d2c37af4817d1cbf09742c1f51a328820c7\",\\n    \"width\" : 200\\n  }, {\\n    \"height\" : 64,\\n    \"url\" : \"https://i.scdn.co/image/3f31f2b7e890c2e59a9e4d67ea37f459e7036991\",\\n    \"width\" : 64\\n  } ],\\n  \"name\" : \"Coldplay\",\\n  \"popularity\" : 91,\\n  \"type\" : \"artist\",\\n  \"uri\" : \"spotify:artist:4gzpq5DPGxSnKTe4SA8HAU\"\\n}'"
      ]
     },
     "execution_count": 36,
     "metadata": {},
     "output_type": "execute_result"
    }
   ],
   "source": [
    "jsonstr = response.content.decode()\n",
    "jsonstr"
   ]
  },
  {
   "cell_type": "code",
   "execution_count": 37,
   "metadata": {
    "collapsed": false
   },
   "outputs": [],
   "source": [
    "jsloads = json.loads(jsonstr)"
   ]
  },
  {
   "cell_type": "code",
   "execution_count": 39,
   "metadata": {
    "collapsed": false
   },
   "outputs": [
    {
     "data": {
      "text/plain": [
       "'Coldplay'"
      ]
     },
     "execution_count": 39,
     "metadata": {},
     "output_type": "execute_result"
    }
   ],
   "source": [
    "jsloads['name']"
   ]
  },
  {
   "cell_type": "code",
   "execution_count": 60,
   "metadata": {
    "collapsed": false
   },
   "outputs": [
    {
     "name": "stdout",
     "output_type": "stream",
     "text": [
      "<Response [200]>\n"
     ]
    }
   ],
   "source": [
    "#coldpaly - spotify:artist:4gzpq5DPGxSnKTe4SA8HAU\n",
    "# response = requests.get(\"https://api.spotify.com/v1/artists/4gzpq5DPGxSnKTe4SA8HAU\")\n",
    "response = requests.get(\"https://api.spotify.com/v1/search?q='coldplay'&type=artist\")\n",
    "print (response)\n",
    "jsonstr = response.content.decode()\n",
    "jsloads = json.loads(jsonstr)\n"
   ]
  },
  {
   "cell_type": "code",
   "execution_count": 61,
   "metadata": {
    "collapsed": false
   },
   "outputs": [
    {
     "data": {
      "text/plain": [
       "dict_keys(['limit', 'offset', 'href', 'items', 'total', 'next', 'previous'])"
      ]
     },
     "execution_count": 61,
     "metadata": {},
     "output_type": "execute_result"
    }
   ],
   "source": [
    "jsloads['artists'].keys()"
   ]
  },
  {
   "cell_type": "code",
   "execution_count": 63,
   "metadata": {
    "collapsed": false
   },
   "outputs": [
    {
     "data": {
      "text/plain": [
       "{'external_urls': {'spotify': 'https://open.spotify.com/artist/58naUc4Fd9OoP6UrdrpgFO'},\n",
       " 'followers': {'href': None, 'total': 72},\n",
       " 'genres': [],\n",
       " 'href': 'https://api.spotify.com/v1/artists/58naUc4Fd9OoP6UrdrpgFO',\n",
       " 'id': '58naUc4Fd9OoP6UrdrpgFO',\n",
       " 'images': [{'height': 640,\n",
       "   'url': 'https://i.scdn.co/image/7e544bb9b858905f95ed9aa96a186ceeca94f282',\n",
       "   'width': 640},\n",
       "  {'height': 300,\n",
       "   'url': 'https://i.scdn.co/image/072dd1a6fcf580629efa78f55c4e76df6a509780',\n",
       "   'width': 300},\n",
       "  {'height': 64,\n",
       "   'url': 'https://i.scdn.co/image/03ca05365ef52b26f844a359a27cd0f59cadd00c',\n",
       "   'width': 64}],\n",
       " 'name': 'ColdPlay Wu',\n",
       " 'popularity': 0,\n",
       " 'type': 'artist',\n",
       " 'uri': 'spotify:artist:58naUc4Fd9OoP6UrdrpgFO'}"
      ]
     },
     "execution_count": 63,
     "metadata": {},
     "output_type": "execute_result"
    }
   ],
   "source": [
    "jsloads['artists']['items'][2]"
   ]
  },
  {
   "cell_type": "code",
   "execution_count": null,
   "metadata": {
    "collapsed": true
   },
   "outputs": [],
   "source": []
  }
 ],
 "metadata": {
  "kernelspec": {
   "display_name": "Python [Root]",
   "language": "python",
   "name": "Python [Root]"
  },
  "language_info": {
   "codemirror_mode": {
    "name": "ipython",
    "version": 3
   },
   "file_extension": ".py",
   "mimetype": "text/x-python",
   "name": "python",
   "nbconvert_exporter": "python",
   "pygments_lexer": "ipython3",
   "version": "3.5.2"
  }
 },
 "nbformat": 4,
 "nbformat_minor": 0
}
