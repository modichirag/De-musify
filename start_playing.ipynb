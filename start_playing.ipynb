{
 "cells": [
  {
   "cell_type": "markdown",
   "metadata": {},
   "source": [
    "#### Idea\n",
    "\n",
    "- Access spotify with authorization. Get one(all) of your playlists and tracks. \n",
    "- Get information/features of those tacks and cluster them together to find trends in your taste of music.\n",
    "- Maybe sort by dates and see how your taste has evolved?\n",
    "- ^I like this idea\n",
    "\n",
    "---Damn I think I am taking my music too seriously\n",
    "\n",
    "##### Roadmap\n",
    "We don't have time, so lets get it working quickly. Following are the steps\n",
    "- Understand how to interact with spotify api\n",
    "- register your app\n",
    "- get access to your playlists. Get songs from a playlist. This should conclude phase 1.\n",
    "- get features for your songs. Save them in database? Plot them?\n",
    "- Advanced: \n",
    "  - Run a clustering algorithm to find labels to define your music\n",
    "  - Try to find related artists, go through their music and find similar?"
   ]
  },
  {
   "cell_type": "code",
   "execution_count": 1,
   "metadata": {
    "collapsed": false
   },
   "outputs": [
    {
     "name": "stdout",
     "output_type": "stream",
     "text": [
      "  0 Sonata No. 14 \"Moonlight\" in C-Sharp Minor\", Op. 27 No. 2: I. Adagio sostenuto\n",
      "  1 Horn Sonata in F Major, Op. 17 (version for flute and fortepiano): I. Allegro moderato\n",
      "  2 Horn Sonata in F Major, Op. 17 (version for flute and fortepiano): III. Allegro moderato\n",
      "  3 Horn Sonata in F Major, Op. 17 (version for flute and fortepiano): II. Poco adagio, quasi andante\n",
      "  4 Flute Sonata in B-Flat Major, Anh. 4 (version for flute and fortepiano): I. Allegro moderato\n",
      "  5 Flute Sonata in B-Flat Major, Anh. 4 (version for flute and fortepiano): II. Polonaise\n",
      "  6 Flute Sonata in B-Flat Major, Anh. 4 (version for flute and fortepiano): III. Largo\n",
      "  7 Flute Sonata in B-Flat Major, Anh. 4 (version for flute and fortepiano): IV. Allegretto molto con variazione\n",
      "  8 Serenade in D Major, Op. 41 (version for flute and fortepiano): I. Entrata: Allegro\n",
      "  9 Serenade in D Major, Op. 41 (version for flute and fortepiano): II. Tempo ordinario d'un menuetto\n",
      "  10 Serenade in D Major, Op. 41 (version for flute and fortepiano): III. Molto allegro\n",
      "  11 Serenade in D Major, Op. 41 (version for flute and fortepiano): V. Allegro, scherzando e vivace\n",
      "  12 Serenade in D Major, Op. 41 (version for flute and fortepiano): VI. Adagio\n",
      "  13 Serenade in D Major, Op. 41 (version for flute and fortepiano): IV. Andante con variazioni\n",
      "  14 Serenade in D Major, Op. 41 (version for flute and fortepiano): VII. Allegro vivace e disinvolto\n",
      "  15 Piano Sonata No. 7 in D Major, Op. 10 No. 3: I. Presto\n",
      "  16 Piano Sonata No. 7 in D Major, Op. 10 No. 3: II. Largo e mesto\n",
      "  17 Piano Sonata No. 7 in D Major, Op. 10 No. 3: III. Menuetto: Allegro - Trio\n",
      "  18 Piano Sonata No. 14 in C-Sharp Minor, Op. 27 No. 2 \"Moonlight\": I. Adagio sostenuto\n",
      "  19 Piano Sonata No. 7 in D Major, Op. 10 No. 3: IV. Rondo: Allegro\n"
     ]
    }
   ],
   "source": [
    "import spotipy\n",
    "sp = spotipy.Spotify()\n",
    "\n",
    "results = sp.search(q='beethoven', limit=20)\n",
    "for i, t in enumerate(results['tracks']['items']):\n",
    "    print (' ', i, t['name'])"
   ]
  },
  {
   "cell_type": "code",
   "execution_count": 2,
   "metadata": {
    "collapsed": true
   },
   "outputs": [],
   "source": [
    "\n",
    "# from flask import Flask, request, render_template\n",
    "# from flask import Flask, request, session, g, redirect, url_for, abort, \\\n",
    "#      render_template, flash\n",
    "# from werkzeug.utils import secure_filename\n",
    "import sqlite3\n",
    "import os\n",
    "import requests\n",
    "import re\n",
    "from urllib.request import urlopen\n",
    "from bs4 import BeautifulSoup\n",
    "import json\n"
   ]
  },
  {
   "cell_type": "markdown",
   "metadata": {},
   "source": [
    "### Basic Requests"
   ]
  },
  {
   "cell_type": "code",
   "execution_count": 3,
   "metadata": {
    "collapsed": false
   },
   "outputs": [
    {
     "name": "stdout",
     "output_type": "stream",
     "text": [
      "<Response [200]>\n"
     ]
    }
   ],
   "source": [
    "#coldpaly - spotify:artist:4gzpq5DPGxSnKTe4SA8HAU\n",
    "response = requests.get(\"https://api.spotify.com/v1/artists/4gzpq5DPGxSnKTe4SA8HAU\")\n",
    "print (response)"
   ]
  },
  {
   "cell_type": "code",
   "execution_count": 4,
   "metadata": {
    "collapsed": false
   },
   "outputs": [
    {
     "data": {
      "text/plain": [
       "'{\\n  \"external_urls\" : {\\n    \"spotify\" : \"https://open.spotify.com/artist/4gzpq5DPGxSnKTe4SA8HAU\"\\n  },\\n  \"followers\" : {\\n    \"href\" : null,\\n    \"total\" : 6316938\\n  },\\n  \"genres\" : [ \"permanent wave\", \"pop\", \"pop christmas\", \"rock\" ],\\n  \"href\" : \"https://api.spotify.com/v1/artists/4gzpq5DPGxSnKTe4SA8HAU\",\\n  \"id\" : \"4gzpq5DPGxSnKTe4SA8HAU\",\\n  \"images\" : [ {\\n    \"height\" : 1000,\\n    \"url\" : \"https://i.scdn.co/image/31fa9aa639d539dc93ab9e3570c7c70a1b5c64f8\",\\n    \"width\" : 1000\\n  }, {\\n    \"height\" : 640,\\n    \"url\" : \"https://i.scdn.co/image/f700aaf6ebf1f0105d4eece756d924ab7efc3441\",\\n    \"width\" : 640\\n  }, {\\n    \"height\" : 200,\\n    \"url\" : \"https://i.scdn.co/image/32e13d2c37af4817d1cbf09742c1f51a328820c7\",\\n    \"width\" : 200\\n  }, {\\n    \"height\" : 64,\\n    \"url\" : \"https://i.scdn.co/image/3f31f2b7e890c2e59a9e4d67ea37f459e7036991\",\\n    \"width\" : 64\\n  } ],\\n  \"name\" : \"Coldplay\",\\n  \"popularity\" : 91,\\n  \"type\" : \"artist\",\\n  \"uri\" : \"spotify:artist:4gzpq5DPGxSnKTe4SA8HAU\"\\n}'"
      ]
     },
     "execution_count": 4,
     "metadata": {},
     "output_type": "execute_result"
    }
   ],
   "source": [
    "jsonstr = response.content.decode()\n",
    "jsonstr"
   ]
  },
  {
   "cell_type": "code",
   "execution_count": 5,
   "metadata": {
    "collapsed": false
   },
   "outputs": [],
   "source": [
    "jsloads = json.loads(jsonstr)"
   ]
  },
  {
   "cell_type": "code",
   "execution_count": 6,
   "metadata": {
    "collapsed": false
   },
   "outputs": [
    {
     "data": {
      "text/plain": [
       "'Coldplay'"
      ]
     },
     "execution_count": 6,
     "metadata": {},
     "output_type": "execute_result"
    }
   ],
   "source": [
    "jsloads['name']"
   ]
  },
  {
   "cell_type": "code",
   "execution_count": 7,
   "metadata": {
    "collapsed": false
   },
   "outputs": [
    {
     "name": "stdout",
     "output_type": "stream",
     "text": [
      "<Response [200]>\n"
     ]
    }
   ],
   "source": [
    "#coldpaly - spotify:artist:4gzpq5DPGxSnKTe4SA8HAU\n",
    "# response = requests.get(\"https://api.spotify.com/v1/artists/4gzpq5DPGxSnKTe4SA8HAU\")\n",
    "response = requests.get(\"https://api.spotify.com/v1/search?q='coldplay'&type=artist\")\n",
    "print (response)\n",
    "jsonstr = response.content.decode()\n",
    "jsloads = json.loads(jsonstr)\n"
   ]
  },
  {
   "cell_type": "code",
   "execution_count": 8,
   "metadata": {
    "collapsed": false
   },
   "outputs": [
    {
     "data": {
      "text/plain": [
       "dict_keys(['next', 'items', 'total', 'limit', 'previous', 'offset', 'href'])"
      ]
     },
     "execution_count": 8,
     "metadata": {},
     "output_type": "execute_result"
    }
   ],
   "source": [
    "jsloads['artists'].keys()"
   ]
  },
  {
   "cell_type": "code",
   "execution_count": 9,
   "metadata": {
    "collapsed": false
   },
   "outputs": [
    {
     "data": {
      "text/plain": [
       "{'external_urls': {'spotify': 'https://open.spotify.com/artist/58naUc4Fd9OoP6UrdrpgFO'},\n",
       " 'followers': {'href': None, 'total': 72},\n",
       " 'genres': [],\n",
       " 'href': 'https://api.spotify.com/v1/artists/58naUc4Fd9OoP6UrdrpgFO',\n",
       " 'id': '58naUc4Fd9OoP6UrdrpgFO',\n",
       " 'images': [{'height': 640,\n",
       "   'url': 'https://i.scdn.co/image/7e544bb9b858905f95ed9aa96a186ceeca94f282',\n",
       "   'width': 640},\n",
       "  {'height': 300,\n",
       "   'url': 'https://i.scdn.co/image/072dd1a6fcf580629efa78f55c4e76df6a509780',\n",
       "   'width': 300},\n",
       "  {'height': 64,\n",
       "   'url': 'https://i.scdn.co/image/03ca05365ef52b26f844a359a27cd0f59cadd00c',\n",
       "   'width': 64}],\n",
       " 'name': 'ColdPlay Wu',\n",
       " 'popularity': 0,\n",
       " 'type': 'artist',\n",
       " 'uri': 'spotify:artist:58naUc4Fd9OoP6UrdrpgFO'}"
      ]
     },
     "execution_count": 9,
     "metadata": {},
     "output_type": "execute_result"
    }
   ],
   "source": [
    "jsloads['artists']['items'][2]"
   ]
  },
  {
   "cell_type": "markdown",
   "metadata": {},
   "source": [
    "<hr />\n",
    "<hr />\n"
   ]
  },
  {
   "cell_type": "markdown",
   "metadata": {},
   "source": [
    "## Authorization\n",
    "Phew, the following needs to be summarized for future dumb me. <br>\n",
    "Basically, to authorize, you send the client id and redirect uri of your app to the spotify. This is done by accessing accounts.spotify.com/authorize?response_type=code?client_id=xyz. <br>\n",
    "**Client_id** tells which app is asking for authorization. It prompts you to login, which is basically asking which account you want to access. If the login is successful, it redirects you to **redirect_uri**. <br>\n",
    "This is the url/server which is listening. When you are redirected to this link, its path is appended with **?code =** after which spotify is giving you the authorization response, basically stating that yea, everything is okay<br>\n",
    "You can then use this response to get the access token(which needs to be refreshed and stuff). <br>\n",
    "Good workflow is here http://requests-oauthlib.readthedocs.io/en/latest/oauth2_workflow.html#web-application-flow"
   ]
  },
  {
   "cell_type": "code",
   "execution_count": 18,
   "metadata": {
    "collapsed": true
   },
   "outputs": [],
   "source": [
    "import os \n",
    "#becuase by default, OAUTH2 requires https but we are at http.\n",
    "os.environ['OAUTHLIB_INSECURE_TRANSPORT'] = '1'\n"
   ]
  },
  {
   "cell_type": "code",
   "execution_count": 15,
   "metadata": {
    "collapsed": false
   },
   "outputs": [],
   "source": [
    "#Details of you \n",
    "client_id = \"42b6ab36875d43128f6b750da5c0e987\"\n",
    "client_secret = \"8c1dcb159aee4d69962e0b357f048eec\"\n",
    "redirect_uri = 'http://127.0.0.1:8080/callback/q'\n",
    "#'http://localhost:5000/callback'\n",
    "# 'http://localhost:8888/callback'\n",
    "# http://127.0.0.1:8080/callback/q\n",
    "auth_url = \"https://accounts.spotify.com/authorize\"\n",
    "token_url = \"https://accounts.spotify.com/api/token\""
   ]
  },
  {
   "cell_type": "code",
   "execution_count": 16,
   "metadata": {
    "collapsed": false
   },
   "outputs": [
    {
     "name": "stdout",
     "output_type": "stream",
     "text": [
      "Please go to https://accounts.spotify.com/authorize?response_type=code&client_id=42b6ab36875d43128f6b750da5c0e987&redirect_uri=http%3A%2F%2F127.0.0.1%3A8080%2Fcallback%2Fq&scope=user-read-private+user-read-email&state=34fFs29kd09 and authorize access.\n",
      "Enter the full callback URLhttp://127.0.0.1:8080/callback/q?code=AQCI1Ofs4pVTBu13O24QPvDY0cKJ-FSGKRNLDkaMrUpxUgYNZy0hBS7AcHS8k4lsostHSy_NdVRZD7cpv9M3i_nJAqq66Vvf7HgpbyyZfge6r4rMdpMln2vzTBEM9I0g-I0SGu_M6TcdyRwCn3UPZ0vGW8d7_6Zo6lDJZEfl9DEYQv6Dp6GYckNlRbqk_-vk2x9gf5dmGH7u0A1HnLbblRZfIMRbkWFiW5T4oCfT286Um50xRnDfnByW&state=34fFs29kd09\n"
     ]
    }
   ],
   "source": [
    "from requests_oauthlib import OAuth2Session\n",
    "\n",
    "scopes = 'user-read-private user-read-email'\n",
    "oauth = OAuth2Session(client_id, redirect_uri=redirect_uri,\n",
    "                          scope=scopes, state = \"34fFs29kd09\")\n",
    "authorization_url, state = oauth.authorization_url(auth_url)\n",
    "print ('Please go to %s and authorize access.' % authorization_url)\n",
    "authorization_response =  input('Enter the URL you were redirected to')\n",
    "### Note that the page might say This site can’t be reached and connection refused, \n",
    "### but you are only interested in url\n",
    "### This last bit is important!"
   ]
  },
  {
   "cell_type": "code",
   "execution_count": 19,
   "metadata": {
    "collapsed": false
   },
   "outputs": [],
   "source": [
    "token = oauth.fetch_token(\n",
    "        token_url,\n",
    "        authorization_response=authorization_response,\n",
    "        client_secret=client_secret)"
   ]
  },
  {
   "cell_type": "code",
   "execution_count": 20,
   "metadata": {
    "collapsed": false
   },
   "outputs": [
    {
     "data": {
      "text/plain": [
       "{'access_token': 'BQATnSIQTt_x3_ChRyGPX5Qy90dqaP1CmJGe8cggFWQXjm38tiofxpLCO-x7xrwUUHbKKzNr4aGcQcDUt2Ht_r7RbXKl4onpjf2fFAKtUcPJlEthZew8Z3-ePQiBVQe70YVM8JKUFc1dYrFvv_boViPO0DdPJokoTUI',\n",
       " 'expires_at': 1478158564.673078,\n",
       " 'expires_in': 3600,\n",
       " 'refresh_token': 'AQBgwE4uh38lOTkIErhvOO5B9UsdTbMa8KPER0NHHl927R_lN8rD8KYuqUAVqmbh4OgKLpyOKWUR7Bgjs65YNpputnp58mL6JHwCtm5jYUvI3aBBlj06TBD7Hw7qX_6Bq9E',\n",
       " 'scope': ['user-read-email', 'user-read-private'],\n",
       " 'token_type': 'Bearer'}"
      ]
     },
     "execution_count": 20,
     "metadata": {},
     "output_type": "execute_result"
    }
   ],
   "source": [
    "token"
   ]
  },
  {
   "cell_type": "code",
   "execution_count": 23,
   "metadata": {
    "collapsed": false
   },
   "outputs": [
    {
     "data": {
      "text/plain": [
       "<Response [200]>"
      ]
     },
     "execution_count": 23,
     "metadata": {},
     "output_type": "execute_result"
    }
   ],
   "source": [
    "response = oauth.get(\"https://api.spotify.com/v1/me\")\n",
    "response"
   ]
  },
  {
   "cell_type": "code",
   "execution_count": 26,
   "metadata": {
    "collapsed": false
   },
   "outputs": [
    {
     "data": {
      "text/plain": [
       "'{\\n  \"country\" : \"US\",\\n  \"display_name\" : \"Chirag Modi\",\\n  \"email\" : \"greatestchirag@gmail.com\",\\n  \"external_urls\" : {\\n    \"spotify\" : \"https://open.spotify.com/user/1189956848\"\\n  },\\n  \"followers\" : {\\n    \"href\" : null,\\n    \"total\" : 28\\n  },\\n  \"href\" : \"https://api.spotify.com/v1/users/1189956848\",\\n  \"id\" : \"1189956848\",\\n  \"images\" : [ {\\n    \"height\" : null,\\n    \"url\" : \"https://scontent.xx.fbcdn.net/v/t1.0-1/s200x200/944125_668663203159382_294146875_n.jpg?oh=ad7583c93bac7e7f245ff9c87b5e2f80&oe=588D0B72\",\\n    \"width\" : null\\n  } ],\\n  \"product\" : \"premium\",\\n  \"type\" : \"user\",\\n  \"uri\" : \"spotify:user:1189956848\"\\n}'"
      ]
     },
     "execution_count": 26,
     "metadata": {},
     "output_type": "execute_result"
    }
   ],
   "source": [
    "response.content.decode()"
   ]
  }
 ],
 "metadata": {
  "anaconda-cloud": {},
  "kernelspec": {
   "display_name": "Python [Root]",
   "language": "python",
   "name": "Python [Root]"
  },
  "language_info": {
   "codemirror_mode": {
    "name": "ipython",
    "version": 3
   },
   "file_extension": ".py",
   "mimetype": "text/x-python",
   "name": "python",
   "nbconvert_exporter": "python",
   "pygments_lexer": "ipython3",
   "version": "3.5.2"
  }
 },
 "nbformat": 4,
 "nbformat_minor": 0
}
